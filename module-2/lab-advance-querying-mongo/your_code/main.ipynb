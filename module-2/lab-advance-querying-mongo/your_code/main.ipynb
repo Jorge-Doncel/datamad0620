{
 "cells": [
  {
   "cell_type": "markdown",
   "metadata": {},
   "source": [
    "# Advanced Querying Mongo"
   ]
  },
  {
   "cell_type": "markdown",
   "metadata": {},
   "source": [
    "Importing libraries and setting up connection"
   ]
  },
  {
   "cell_type": "code",
   "execution_count": 7,
   "metadata": {},
   "outputs": [],
   "source": [
    "from pymongo import ASCENDING, DESCENDING"
   ]
  },
  {
   "cell_type": "code",
   "execution_count": 1,
   "metadata": {},
   "outputs": [],
   "source": [
    "from pymongo import MongoClient\n",
    "\n",
    "dbName = \"companies\"\n",
    "mongodbURL = f\"mongodb://localhost/{dbName}\"\n",
    "\n",
    "client = MongoClient(mongodbURL, connectTimeoutMS=2000, serverSelectionTimeoutMS=2000)\n",
    "db = client.get_database()"
   ]
  },
  {
   "cell_type": "markdown",
   "metadata": {},
   "source": [
    "### 1. All the companies whose name match 'Babelgum'. Retrieve only their `name` field."
   ]
  },
  {
   "cell_type": "code",
   "execution_count": 24,
   "metadata": {},
   "outputs": [
    {
     "data": {
      "text/plain": [
       "[{'_id': ObjectId('52cdef7c4bab8bd675297da0'), 'name': 'Babelgum'}]"
      ]
     },
     "execution_count": 24,
     "metadata": {},
     "output_type": "execute_result"
    }
   ],
   "source": [
    "list(db.companies.find({\"name\":{\"$eq\":\"Babelgum\"}},{\"name\":1}))"
   ]
  },
  {
   "cell_type": "markdown",
   "metadata": {},
   "source": [
    "### 2. All the companies that have more than 5000 employees. Limit the search to 20 companies and sort them by **number of employees**."
   ]
  },
  {
   "cell_type": "code",
   "execution_count": 54,
   "metadata": {},
   "outputs": [
    {
     "data": {
      "text/plain": [
       "{'_id': ObjectId('52cdef7e4bab8bd67529a7f1'),\n",
       " 'name': 'kalimatapla',\n",
       " 'permalink': 'kalimatapla',\n",
       " 'crunchbase_url': 'http://www.crunchbase.com/company/kalimatapla',\n",
       " 'homepage_url': 'http://www.kalimatapla.com',\n",
       " 'blog_url': '',\n",
       " 'blog_feed_url': '',\n",
       " 'twitter_username': None,\n",
       " 'category_code': 'other',\n",
       " 'number_of_employees': 25417,\n",
       " 'founded_year': 1982,\n",
       " 'founded_month': 8,\n",
       " 'founded_day': 17,\n",
       " 'deadpooled_year': None,\n",
       " 'deadpooled_month': None,\n",
       " 'deadpooled_day': None,\n",
       " 'deadpooled_url': None,\n",
       " 'tag_list': 'plastics, exports, manufacturers, spare, parts, machinery',\n",
       " 'alias_list': None,\n",
       " 'email_address': 'premak585@gmail.com',\n",
       " 'phone_number': '080-28361456',\n",
       " 'description': None,\n",
       " 'created_at': 'Sun Dec 14 11:38:32 UTC 2008',\n",
       " 'updated_at': 'Mon Apr 13 16:01:13 UTC 2009',\n",
       " 'overview': '<p>High End Manufacturer &amp; Exporter of plastic processing Machinery &amp; spares</p>',\n",
       " 'image': {'available_sizes': [[[150, 21],\n",
       "    'assets/images/resized/0004/1012/41012v1-max-150x150.png'],\n",
       "   [[250, 35], 'assets/images/resized/0004/1012/41012v1-max-250x250.png'],\n",
       "   [[358, 51], 'assets/images/resized/0004/1012/41012v1-max-450x450.png']],\n",
       "  'attribution': None},\n",
       " 'products': [],\n",
       " 'relationships': [],\n",
       " 'competitions': [],\n",
       " 'providerships': [],\n",
       " 'total_money_raised': '$0',\n",
       " 'funding_rounds': [],\n",
       " 'investments': [],\n",
       " 'acquisition': None,\n",
       " 'acquisitions': [],\n",
       " 'offices': [],\n",
       " 'milestones': [],\n",
       " 'ipo': None,\n",
       " 'video_embeds': [],\n",
       " 'screenshots': [{'available_sizes': [[[150, 93],\n",
       "     'assets/images/resized/0004/1013/41013v1-max-150x150.png'],\n",
       "    [[250, 156], 'assets/images/resized/0004/1013/41013v1-max-250x250.png'],\n",
       "    [[450, 280], 'assets/images/resized/0004/1013/41013v1-max-450x450.png']],\n",
       "   'attribution': None}],\n",
       " 'external_links': [],\n",
       " 'partners': []}"
      ]
     },
     "execution_count": 54,
     "metadata": {},
     "output_type": "execute_result"
    }
   ],
   "source": [
    "ex2 = list(db.companies.find({\"number_of_employees\":{\"$gt\":5000}}).limit(20).sort([(\"name\",DESCENDING)]))\n",
    "ex2[0]"
   ]
  },
  {
   "cell_type": "markdown",
   "metadata": {},
   "source": [
    "### 3. All the companies founded between 2000 and 2005, both years included. Retrieve only the `name` and `founded_year` fields."
   ]
  },
  {
   "cell_type": "code",
   "execution_count": 79,
   "metadata": {},
   "outputs": [
    {
     "data": {
      "text/plain": [
       "{'_id': ObjectId('52cdef7c4bab8bd675297d8a'),\n",
       " 'name': 'Wetpaint',\n",
       " 'founded_year': 2005}"
      ]
     },
     "execution_count": 79,
     "metadata": {},
     "output_type": "execute_result"
    }
   ],
   "source": [
    "ex3= list(db.companies.find(\n",
    "    {\"$and\":[{\"founded_year\":{\"$gte\":2000}},\n",
    "             {\"founded_year\":{\"$lte\":2005}}]},{\"name\":1, \"founded_year\":1}))\n",
    "ex3[0]"
   ]
  },
  {
   "cell_type": "markdown",
   "metadata": {},
   "source": [
    "### 4. All the companies that had a Valuation Amount of more than 100.000.000 and have been founded before 2010. Retrieve only the `name` and `ipo` fields."
   ]
  },
  {
   "cell_type": "code",
   "execution_count": 53,
   "metadata": {},
   "outputs": [
    {
     "data": {
      "text/plain": [
       "[{'_id': ObjectId('52cdef7c4bab8bd675297d8e'),\n",
       "  'name': 'Facebook',\n",
       "  'ipo': {'valuation_amount': 104000000000,\n",
       "   'valuation_currency_code': 'USD',\n",
       "   'pub_year': 2012,\n",
       "   'pub_month': 5,\n",
       "   'pub_day': 18,\n",
       "   'stock_symbol': 'NASDAQ:FB'}}]"
      ]
     },
     "execution_count": 53,
     "metadata": {},
     "output_type": "execute_result"
    }
   ],
   "source": [
    "ex4=list(db.companies.find({\"$and\":[{\"ipo.valuation_amount\":{\"$gt\":100000000}},\n",
    "        {\"founded_year\":{\"$lte\":2010}}]},\n",
    "        {\"name\":1, \"ipo\":1}).limit(1))\n",
    "ex4"
   ]
  },
  {
   "cell_type": "markdown",
   "metadata": {},
   "source": [
    "### 5. All the companies that have less than 1000 employees and have been founded before 2005. Order them by the number of employees and limit the search to 10 companies."
   ]
  },
  {
   "cell_type": "code",
   "execution_count": 84,
   "metadata": {},
   "outputs": [
    {
     "data": {
      "text/plain": [
       "[{'_id': ObjectId('52cdef7d4bab8bd675298933'),\n",
       "  'name': 'Infinera Corporation',\n",
       "  'permalink': 'infinera',\n",
       "  'crunchbase_url': 'http://www.crunchbase.com/company/infinera',\n",
       "  'homepage_url': 'http://www.infinera.com',\n",
       "  'blog_url': '',\n",
       "  'blog_feed_url': '',\n",
       "  'twitter_username': 'InfineraCorp',\n",
       "  'category_code': 'network_hosting',\n",
       "  'number_of_employees': 974,\n",
       "  'founded_year': 2000,\n",
       "  'founded_month': None,\n",
       "  'founded_day': None,\n",
       "  'deadpooled_year': None,\n",
       "  'deadpooled_month': None,\n",
       "  'deadpooled_day': None,\n",
       "  'deadpooled_url': None,\n",
       "  'tag_list': None,\n",
       "  'alias_list': 'Zepton Networks',\n",
       "  'email_address': '',\n",
       "  'phone_number': '408-572-5200',\n",
       "  'description': 'Optical Networking Systems',\n",
       "  'created_at': 'Tue Apr 29 19:43:09 UTC 2008',\n",
       "  'updated_at': 'Tue Jan 10 22:07:21 UTC 2012',\n",
       "  'overview': '<p>Infinera Corporation provides optical networking systems based on photonic integration technology in the United States. Its digital transport node (DTN) system utilizes the photonic integrated circuit (PIC) technology to enable digital processing and management of data with the capability to generate wavelength division multiplexing wavelengths and to add, drop, switch, manage, protect, and restore network traffic digitally. The company&#8217;s PICs transmit and receive 100 Gigabits per second of optical capacity and incorporate the functionality of approximately 60 discrete optical components into a pair of indium phosphide chips. The DTN System is used to enable optical to electrical to optical conversions at every network access point to provide communications service providers with the ability to digitally process the information being transported across their optical networks. It also offers a range of support offerings, including 24/7/365 hardware and software technical support, installation and deployment services, spares management, first line maintenance services, on-site technical services, professional services, product technical training, and extended product warranties. The company offers its products to operators of optical networks, including telecom carriers, cable operators, and Internet or content service providers. </p>\\n\\n<p>Infinera Corporation, formerly known as Zepton Networks, was founded in 2000 and is headquartered in Sunnyvale, California.</p>',\n",
       "  'image': {'available_sizes': [[[150, 38],\n",
       "     'assets/images/resized/0001/7822/17822v1-max-150x150.png'],\n",
       "    [[191, 49], 'assets/images/resized/0001/7822/17822v1-max-250x250.png'],\n",
       "    [[191, 49], 'assets/images/resized/0001/7822/17822v1-max-450x450.png']],\n",
       "   'attribution': None},\n",
       "  'products': [],\n",
       "  'relationships': [{'is_past': False,\n",
       "    'title': 'CEO',\n",
       "    'person': {'first_name': 'Thomas',\n",
       "     'last_name': 'Fallon',\n",
       "     'permalink': 'thomas-fallon'}},\n",
       "   {'is_past': False,\n",
       "    'title': 'CEO',\n",
       "    'person': {'first_name': 'Tom',\n",
       "     'last_name': 'Fallon',\n",
       "     'permalink': 'tom-fallon'}},\n",
       "   {'is_past': False,\n",
       "    'title': 'VP, Cable Sales',\n",
       "    'person': {'first_name': 'Mike',\n",
       "     'last_name': 'Kelly',\n",
       "     'permalink': 'mike-kelly-2'}},\n",
       "   {'is_past': False,\n",
       "    'title': 'Board of Directors',\n",
       "    'person': {'first_name': 'Kenneth',\n",
       "     'last_name': 'Goldman',\n",
       "     'permalink': 'kenneth-goldman'}},\n",
       "   {'is_past': False,\n",
       "    'title': '',\n",
       "    'person': {'first_name': 'Sunny',\n",
       "     'last_name': 'Sugaya',\n",
       "     'permalink': 'sunny-sugaya'}},\n",
       "   {'is_past': False,\n",
       "    'title': 'Chairman of the Board',\n",
       "    'person': {'first_name': 'Kambiz',\n",
       "     'last_name': 'Hooshmand',\n",
       "     'permalink': 'kambiz-hooshmand'}},\n",
       "   {'is_past': False,\n",
       "    'title': 'Board Member',\n",
       "    'person': {'first_name': 'T.J.',\n",
       "     'last_name': 'Rodgers',\n",
       "     'permalink': 't-j-rodgers'}},\n",
       "   {'is_past': False,\n",
       "    'title': 'Director',\n",
       "    'person': {'first_name': 'Phil',\n",
       "     'last_name': 'Koen',\n",
       "     'permalink': 'phil-koen'}},\n",
       "   {'is_past': False,\n",
       "    'title': 'Investor',\n",
       "    'person': {'first_name': 'Julien',\n",
       "     'last_name': 'Nguyen',\n",
       "     'permalink': 'julien-nguyen'}},\n",
       "   {'is_past': True,\n",
       "    'title': 'Vice President Sales EMEA',\n",
       "    'person': {'first_name': 'Tom',\n",
       "     'last_name': 'Schmitt',\n",
       "     'permalink': 'tom-schmitt'}},\n",
       "   {'is_past': True,\n",
       "    'title': 'Advisor',\n",
       "    'person': {'first_name': 'Steve',\n",
       "     'last_name': \"O'Hara\",\n",
       "     'permalink': 'steve-ohara'}},\n",
       "   {'is_past': True,\n",
       "    'title': 'Manufacturing Controller',\n",
       "    'person': {'first_name': 'John',\n",
       "     'last_name': 'Nadaskay',\n",
       "     'permalink': 'john-nadaskay'}},\n",
       "   {'is_past': True,\n",
       "    'title': 'Board Member',\n",
       "    'person': {'first_name': 'Tom',\n",
       "     'last_name': 'Mawhinney',\n",
       "     'permalink': 'tom-mawhinney'}},\n",
       "   {'is_past': True,\n",
       "    'title': 'Board of Directors',\n",
       "    'person': {'first_name': 'Jim',\n",
       "     'last_name': 'White',\n",
       "     'permalink': 'jim-white'}},\n",
       "   {'is_past': True,\n",
       "    'title': 'Investor',\n",
       "    'person': {'first_name': 'Christopher',\n",
       "     'last_name': 'Lucas',\n",
       "     'permalink': 'christopher-lucas'}},\n",
       "   {'is_past': True,\n",
       "    'title': 'Manager, PIC Process Interaction',\n",
       "    'person': {'first_name': 'Gang',\n",
       "     'last_name': 'He',\n",
       "     'permalink': 'gang-he'}},\n",
       "   {'is_past': True,\n",
       "    'title': 'Software Engineer',\n",
       "    'person': {'first_name': 'Vinodh',\n",
       "     'last_name': 'Kumar',\n",
       "     'permalink': 'vinodh-kumar-2'}},\n",
       "   {'is_past': True,\n",
       "    'title': 'investments',\n",
       "    'person': {'first_name': 'Peter',\n",
       "     'last_name': 'Wagner',\n",
       "     'permalink': 'peter-wagner'}},\n",
       "   {'is_past': True,\n",
       "    'title': 'Engineering',\n",
       "    'person': {'first_name': 'Rob',\n",
       "     'last_name': 'Stone',\n",
       "     'permalink': 'rob-stone'}}],\n",
       "  'competitions': [],\n",
       "  'providerships': [],\n",
       "  'total_money_raised': '$0',\n",
       "  'funding_rounds': [],\n",
       "  'investments': [],\n",
       "  'acquisition': None,\n",
       "  'acquisitions': [],\n",
       "  'offices': [{'description': 'Headquarters',\n",
       "    'address1': '169 Java Drive',\n",
       "    'address2': '',\n",
       "    'zip_code': '94089',\n",
       "    'city': 'Sunnyvale',\n",
       "    'state_code': 'CA',\n",
       "    'country_code': 'USA',\n",
       "    'latitude': 37.411877,\n",
       "    'longitude': -122.018277}],\n",
       "  'milestones': [{'id': 20267,\n",
       "    'description': 'Infinera PICs Surpass 500 Million Hours of Failure-Free Operation Latest Milestones Reaffirm PIC Reliability',\n",
       "    'stoned_year': 2011,\n",
       "    'stoned_month': 4,\n",
       "    'stoned_day': 3,\n",
       "    'source_url': 'http://www.live-pr.com/en/infinera-pics-surpass-500-million-hours-r1048777717.htm',\n",
       "    'source_text': '',\n",
       "    'source_description': 'Infinera PICs Surpass 500 Million Hours of Failure-Free Operation Latest Milestones Reaffirm PIC Reliability',\n",
       "    'stoneable_type': 'Company',\n",
       "    'stoned_value': None,\n",
       "    'stoned_value_type': None,\n",
       "    'stoned_acquirer': None,\n",
       "    'stoneable': {'name': 'Infinera Corporation', 'permalink': 'infinera'}}],\n",
       "  'ipo': {'valuation_amount': None,\n",
       "   'valuation_currency_code': 'USD',\n",
       "   'pub_year': 2007,\n",
       "   'pub_month': 6,\n",
       "   'pub_day': 7,\n",
       "   'stock_symbol': 'INFN'},\n",
       "  'video_embeds': [],\n",
       "  'screenshots': [{'available_sizes': [[[150, 112],\n",
       "      'assets/images/resized/0016/9559/169559v1-max-150x150.jpg'],\n",
       "     [[250, 187], 'assets/images/resized/0016/9559/169559v1-max-250x250.jpg'],\n",
       "     [[450, 338], 'assets/images/resized/0016/9559/169559v1-max-450x450.jpg']],\n",
       "    'attribution': None}],\n",
       "  'external_links': [],\n",
       "  'partners': []}]"
      ]
     },
     "execution_count": 84,
     "metadata": {},
     "output_type": "execute_result"
    }
   ],
   "source": [
    "ex5=list(db.companies.find({\"$and\":[{\"number_of_employees\":{\"$lt\":1000}},\n",
    "        {\"founded_year\":{\"$lt\":2005}}]}).sort([(\"number_of_employees\",DESCENDING)]).limit(10))\n",
    "ex5[:1]"
   ]
  },
  {
   "cell_type": "markdown",
   "metadata": {},
   "source": [
    "### 6. All the companies that don't include the `partners` field."
   ]
  },
  {
   "cell_type": "code",
   "execution_count": 85,
   "metadata": {},
   "outputs": [
    {
     "data": {
      "text/plain": [
       "[]"
      ]
     },
     "execution_count": 85,
     "metadata": {},
     "output_type": "execute_result"
    }
   ],
   "source": [
    "ex6 = list(db.companies.find({\"partners\":{\"$exists\":False}}))\n",
    "ex6"
   ]
  },
  {
   "cell_type": "markdown",
   "metadata": {},
   "source": [
    "### 7. All the companies that have a null type of value on the `category_code` field."
   ]
  },
  {
   "cell_type": "code",
   "execution_count": 82,
   "metadata": {},
   "outputs": [
    {
     "data": {
      "text/plain": [
       "{'_id': ObjectId('52cdef7c4bab8bd675298226'),\n",
       " 'name': 'KoolIM',\n",
       " 'permalink': 'koolim',\n",
       " 'crunchbase_url': 'http://www.crunchbase.com/company/koolim',\n",
       " 'homepage_url': None,\n",
       " 'blog_url': None,\n",
       " 'blog_feed_url': None,\n",
       " 'twitter_username': None,\n",
       " 'category_code': None,\n",
       " 'number_of_employees': None,\n",
       " 'founded_year': None,\n",
       " 'founded_month': None,\n",
       " 'founded_day': None,\n",
       " 'deadpooled_year': None,\n",
       " 'deadpooled_month': None,\n",
       " 'deadpooled_day': None,\n",
       " 'deadpooled_url': None,\n",
       " 'tag_list': '',\n",
       " 'alias_list': None,\n",
       " 'email_address': None,\n",
       " 'phone_number': None,\n",
       " 'description': None,\n",
       " 'created_at': 'Sat Feb 09 20:35:27 UTC 2008',\n",
       " 'updated_at': 'Mon Nov 29 19:02:26 UTC 2010',\n",
       " 'overview': '<p>KoolIM.com is a web messenger application that allows you to stay connected with your favorite instant messenger networks. They provide a friendly, light and very easy to use web-based interface with almost all core features from the original instant messenger. It works behind a firewall or proxy servers and there is no need to download and install any software or plug-ins.</p>\\n\\n<p>Supported networks:</p>\\n\\n<ul>\\n<li>AIM</li>\\n<li>ICQ</li>\\n<li>MSN</li>\\n<li>Yahoo</li>\\n<li>IRC</li>\\n<li>Jabber</li>\\n<li>Sametime</li>\\n<li>Simple</li>\\n<li>SIP</li>\\n<li>LCS</li>\\n</ul>',\n",
       " 'image': None,\n",
       " 'products': [],\n",
       " 'relationships': [{'is_past': True,\n",
       "   'title': 'Co-Founder',\n",
       "   'person': {'first_name': 'Yogesh',\n",
       "    'last_name': 'Patel',\n",
       "    'permalink': 'yogesh-patel'}}],\n",
       " 'competitions': [{'competitor': {'name': 'eBuddy', 'permalink': 'ebuddy'}}],\n",
       " 'providerships': [],\n",
       " 'total_money_raised': '$0',\n",
       " 'funding_rounds': [],\n",
       " 'investments': [],\n",
       " 'acquisition': None,\n",
       " 'acquisitions': [],\n",
       " 'offices': [],\n",
       " 'milestones': [],\n",
       " 'ipo': None,\n",
       " 'video_embeds': [],\n",
       " 'screenshots': [],\n",
       " 'external_links': [],\n",
       " 'partners': []}"
      ]
     },
     "execution_count": 82,
     "metadata": {},
     "output_type": "execute_result"
    }
   ],
   "source": [
    "ex7 = list(db.companies.find({\"category_code\":{\"$type\": 10}}))\n",
    "ex7[2]"
   ]
  },
  {
   "cell_type": "markdown",
   "metadata": {},
   "source": [
    "### 8. All the companies that have at least 100 employees but less than 1000. Retrieve only the `name` and `number of employees` fields."
   ]
  },
  {
   "cell_type": "code",
   "execution_count": null,
   "metadata": {},
   "outputs": [],
   "source": [
    "# Your Code"
   ]
  },
  {
   "cell_type": "markdown",
   "metadata": {},
   "source": [
    "### 9. Order all the companies by their IPO price in a descending order."
   ]
  },
  {
   "cell_type": "code",
   "execution_count": null,
   "metadata": {},
   "outputs": [],
   "source": [
    "# Your Code"
   ]
  },
  {
   "cell_type": "markdown",
   "metadata": {},
   "source": [
    "### 10. Retrieve the 10 companies with more employees, order by the `number of employees`"
   ]
  },
  {
   "cell_type": "code",
   "execution_count": null,
   "metadata": {},
   "outputs": [],
   "source": [
    "# Your Code"
   ]
  },
  {
   "cell_type": "markdown",
   "metadata": {},
   "source": [
    "### 11. All the companies founded on the second semester of the year. Limit your search to 1000 companies."
   ]
  },
  {
   "cell_type": "code",
   "execution_count": null,
   "metadata": {},
   "outputs": [],
   "source": [
    "# Your Code"
   ]
  },
  {
   "cell_type": "markdown",
   "metadata": {},
   "source": [
    "### 12. All the companies founded before 2000 that have an acquisition amount of more than 10.000.00"
   ]
  },
  {
   "cell_type": "code",
   "execution_count": null,
   "metadata": {},
   "outputs": [],
   "source": [
    "# Your Code"
   ]
  },
  {
   "cell_type": "markdown",
   "metadata": {},
   "source": [
    "### 13. All the companies that have been acquired after 2010, order by the acquisition amount, and retrieve only their `name` and `acquisition` field."
   ]
  },
  {
   "cell_type": "code",
   "execution_count": null,
   "metadata": {},
   "outputs": [],
   "source": [
    "# Your Code"
   ]
  },
  {
   "cell_type": "markdown",
   "metadata": {},
   "source": [
    "### 14. Order the companies by their `founded year`, retrieving only their `name` and `founded year`."
   ]
  },
  {
   "cell_type": "code",
   "execution_count": null,
   "metadata": {},
   "outputs": [],
   "source": [
    "# Your Code"
   ]
  },
  {
   "cell_type": "markdown",
   "metadata": {},
   "source": [
    "### 15. All the companies that have been founded on the first seven days of the month, including the seventh. Sort them by their `acquisition price` in a descending order. Limit the search to 10 documents."
   ]
  },
  {
   "cell_type": "code",
   "execution_count": null,
   "metadata": {},
   "outputs": [],
   "source": [
    "# Your Code"
   ]
  },
  {
   "cell_type": "markdown",
   "metadata": {},
   "source": [
    "### 16. All the companies on the 'web' `category` that have more than 4000 employees. Sort them by the amount of employees in ascending order."
   ]
  },
  {
   "cell_type": "code",
   "execution_count": null,
   "metadata": {},
   "outputs": [],
   "source": [
    "# Your Code"
   ]
  },
  {
   "cell_type": "markdown",
   "metadata": {},
   "source": [
    "### 17. All the companies whose acquisition amount is more than 10.000.000, and currency is 'EUR'."
   ]
  },
  {
   "cell_type": "code",
   "execution_count": null,
   "metadata": {},
   "outputs": [],
   "source": [
    "# Your Code"
   ]
  },
  {
   "cell_type": "markdown",
   "metadata": {},
   "source": [
    "### 18. All the companies that have been acquired on the first trimester of the year. Limit the search to 10 companies, and retrieve only their `name` and `acquisition` fields."
   ]
  },
  {
   "cell_type": "code",
   "execution_count": null,
   "metadata": {},
   "outputs": [],
   "source": [
    "# Your Code"
   ]
  },
  {
   "cell_type": "markdown",
   "metadata": {},
   "source": [
    "# Bonus\n",
    "### 19. All the companies that have been founded between 2000 and 2010, but have not been acquired before 2011."
   ]
  },
  {
   "cell_type": "code",
   "execution_count": null,
   "metadata": {},
   "outputs": [],
   "source": [
    "# Your Code"
   ]
  },
  {
   "cell_type": "markdown",
   "metadata": {},
   "source": [
    "### 20. All the companies that have been 'deadpooled' after the third year."
   ]
  },
  {
   "cell_type": "code",
   "execution_count": null,
   "metadata": {},
   "outputs": [],
   "source": [
    "# Your Code"
   ]
  }
 ],
 "metadata": {
  "kernelspec": {
   "display_name": "Python 3",
   "language": "python",
   "name": "python3"
  },
  "language_info": {
   "codemirror_mode": {
    "name": "ipython",
    "version": 3
   },
   "file_extension": ".py",
   "mimetype": "text/x-python",
   "name": "python",
   "nbconvert_exporter": "python",
   "pygments_lexer": "ipython3",
   "version": "3.6.9"
  }
 },
 "nbformat": 4,
 "nbformat_minor": 2
}
