{
 "cells": [
  {
   "cell_type": "code",
   "execution_count": 36,
   "metadata": {},
   "outputs": [],
   "source": [
    "import json\n",
    "import requests"
   ]
  },
  {
   "cell_type": "code",
   "execution_count": 37,
   "metadata": {},
   "outputs": [],
   "source": [
    "import os\n",
    "from dotenv import load_dotenv\n",
    "load_dotenv()\n",
    "def getFromGithub(endpoint, queryParams={}):\n",
    "    url = f\"https://api.github.com{endpoint}\"\n",
    "\n",
    "    apiKey = os.getenv(\"APIKEY\")\n",
    "    if not apiKey:\n",
    "        raise ValueError(\"Please setup the GITHUB_APIKEY env variable\")\n",
    "    headers = {\n",
    "        \"Authorization\": f\"token {apiKey}\"\n",
    "    }\n",
    "    \n",
    "    res = requests.get(url, headers=headers, params=queryParams)\n",
    "    print(res.url)\n",
    "    return res.json()"
   ]
  },
  {
   "cell_type": "code",
   "execution_count": 38,
   "metadata": {},
   "outputs": [
    {
     "name": "stdout",
     "output_type": "stream",
     "text": [
      "https://api.github.com/users/Jorge-Doncel\n"
     ]
    },
    {
     "data": {
      "text/plain": [
       "{'login': 'Jorge-Doncel',\n",
       " 'id': 65397130,\n",
       " 'node_id': 'MDQ6VXNlcjY1Mzk3MTMw',\n",
       " 'avatar_url': 'https://avatars1.githubusercontent.com/u/65397130?v=4',\n",
       " 'gravatar_id': '',\n",
       " 'url': 'https://api.github.com/users/Jorge-Doncel',\n",
       " 'html_url': 'https://github.com/Jorge-Doncel',\n",
       " 'followers_url': 'https://api.github.com/users/Jorge-Doncel/followers',\n",
       " 'following_url': 'https://api.github.com/users/Jorge-Doncel/following{/other_user}',\n",
       " 'gists_url': 'https://api.github.com/users/Jorge-Doncel/gists{/gist_id}',\n",
       " 'starred_url': 'https://api.github.com/users/Jorge-Doncel/starred{/owner}{/repo}',\n",
       " 'subscriptions_url': 'https://api.github.com/users/Jorge-Doncel/subscriptions',\n",
       " 'organizations_url': 'https://api.github.com/users/Jorge-Doncel/orgs',\n",
       " 'repos_url': 'https://api.github.com/users/Jorge-Doncel/repos',\n",
       " 'events_url': 'https://api.github.com/users/Jorge-Doncel/events{/privacy}',\n",
       " 'received_events_url': 'https://api.github.com/users/Jorge-Doncel/received_events',\n",
       " 'type': 'User',\n",
       " 'site_admin': False,\n",
       " 'name': None,\n",
       " 'company': None,\n",
       " 'blog': '',\n",
       " 'location': None,\n",
       " 'email': None,\n",
       " 'hireable': None,\n",
       " 'bio': None,\n",
       " 'twitter_username': None,\n",
       " 'public_repos': 9,\n",
       " 'public_gists': 0,\n",
       " 'followers': 0,\n",
       " 'following': 1,\n",
       " 'created_at': '2020-05-15T10:06:17Z',\n",
       " 'updated_at': '2020-06-17T13:42:52Z'}"
      ]
     },
     "execution_count": 38,
     "metadata": {},
     "output_type": "execute_result"
    }
   ],
   "source": [
    "getFromGithub(\"/users/Jorge-Doncel\")"
   ]
  },
  {
   "cell_type": "code",
   "execution_count": 49,
   "metadata": {},
   "outputs": [
    {
     "name": "stdout",
     "output_type": "stream",
     "text": [
      "https://api.github.com/repos/ironhack-datalabs/datamad0620/commits?since=2000-06-17T16:22:13Z\n"
     ]
    },
    {
     "data": {
      "text/plain": [
       "4"
      ]
     },
     "execution_count": 49,
     "metadata": {},
     "output_type": "execute_result"
    }
   ],
   "source": [
    "url = getFromGithub(\"/repos/ironhack-datalabs/datamad0620/commits?since=2000-06-17T16:22:13Z\")\n",
    "len(url)"
   ]
  },
  {
   "cell_type": "code",
   "execution_count": null,
   "metadata": {},
   "outputs": [],
   "source": []
  }
 ],
 "metadata": {
  "kernelspec": {
   "display_name": "Python 3",
   "language": "python",
   "name": "python3"
  },
  "language_info": {
   "codemirror_mode": {
    "name": "ipython",
    "version": 3
   },
   "file_extension": ".py",
   "mimetype": "text/x-python",
   "name": "python",
   "nbconvert_exporter": "python",
   "pygments_lexer": "ipython3",
   "version": "3.6.9"
  }
 },
 "nbformat": 4,
 "nbformat_minor": 4
}
